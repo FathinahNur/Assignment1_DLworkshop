{
  "nbformat": 4,
  "nbformat_minor": 0,
  "metadata": {
    "colab": {
      "provenance": [],
      "authorship_tag": "ABX9TyPUlBW7Oc7tAzrbmwcrCQef",
      "include_colab_link": true
    },
    "kernelspec": {
      "name": "python3",
      "display_name": "Python 3"
    },
    "language_info": {
      "name": "python"
    }
  },
  "cells": [
    {
      "cell_type": "markdown",
      "metadata": {
        "id": "view-in-github",
        "colab_type": "text"
      },
      "source": [
        "<a href=\"https://colab.research.google.com/github/FathinahNur/Assignment1_DLworkshop/blob/main/Assignment1_Q1.ipynb\" target=\"_parent\"><img src=\"https://colab.research.google.com/assets/colab-badge.svg\" alt=\"Open In Colab\"/></a>"
      ]
    },
    {
      "cell_type": "code",
      "execution_count": null,
      "metadata": {
        "id": "eM8ErxlbTNHI"
      },
      "outputs": [],
      "source": [
        "# Find largest number in array using for loop"
      ]
    },
    {
      "cell_type": "code",
      "source": [
        "def largest(num, N):\n",
        "\n",
        "  # Initialize the first element of the array as the maximum number\n",
        "  max = num[0]\n",
        "\n",
        "  # Compare every element and substitude into max\n",
        "  for i in range(1, N):\n",
        "        if num[i] > max:\n",
        "            max = num[i]\n",
        "  return max\n",
        " \n",
        "num = [50, 34, 98, 33, 84]\n",
        "N = len(num)\n",
        "Ans = largest(num, N)\n",
        "print(\"The largest number is\", Ans)"
      ],
      "metadata": {
        "colab": {
          "base_uri": "https://localhost:8080/"
        },
        "id": "JMbhxTHGUNfO",
        "outputId": "d5c0e577-0b32-4c0a-bdba-78d682d09fd5"
      },
      "execution_count": null,
      "outputs": [
        {
          "output_type": "stream",
          "name": "stdout",
          "text": [
            "The largest number is 98\n"
          ]
        }
      ]
    },
    {
      "cell_type": "code",
      "source": [],
      "metadata": {
        "id": "T-sbOg1EV1lX"
      },
      "execution_count": null,
      "outputs": []
    }
  ]
}