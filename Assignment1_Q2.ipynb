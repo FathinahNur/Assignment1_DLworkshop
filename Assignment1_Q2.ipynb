{
  "nbformat": 4,
  "nbformat_minor": 0,
  "metadata": {
    "colab": {
      "provenance": [],
      "authorship_tag": "ABX9TyNb2iNbLwMTpVwZhFRoiqWh",
      "include_colab_link": true
    },
    "kernelspec": {
      "name": "python3",
      "display_name": "Python 3"
    },
    "language_info": {
      "name": "python"
    }
  },
  "cells": [
    {
      "cell_type": "markdown",
      "metadata": {
        "id": "view-in-github",
        "colab_type": "text"
      },
      "source": [
        "<a href=\"https://colab.research.google.com/github/FathinahNur/Assignment1_DLworkshop/blob/main/Assignment1_Q2.ipynb\" target=\"_parent\"><img src=\"https://colab.research.google.com/assets/colab-badge.svg\" alt=\"Open In Colab\"/></a>"
      ]
    },
    {
      "cell_type": "code",
      "execution_count": null,
      "metadata": {
        "id": "ca595E6BWJCd"
      },
      "outputs": [],
      "source": [
        "# Add matric no. at class Student() inherited from Person())"
      ]
    },
    {
      "cell_type": "code",
      "source": [
        "class Person():          \n",
        "  def __init__(self, name, age):\n",
        "    self.name = name\n",
        "    self.age = age\n",
        "    \n",
        "  def display(self):\n",
        "    print('Name:', self.name)\n",
        "    print('Age:', self.age)\n",
        "    \n",
        "  def __str__(self):\n",
        "    return f\"Name: {self.name}, Age:{self.age}\"\n",
        "\n",
        "class Student(Person):\n",
        "  def __init__(self, name, age, matricN):\n",
        "    super().__init__(name, age)\n",
        "    self.matricnum = matricN\n",
        "\n",
        "  def bio(self):\n",
        "    print(self.name, \"is\", self.age, \"years old with matric number\", self.matricnum)\n",
        "\n",
        "s1 = Student('Lila', 22, 'G2218965')\n",
        "s1.display()\n",
        "s1.bio()"
      ],
      "metadata": {
        "colab": {
          "base_uri": "https://localhost:8080/"
        },
        "id": "1r0LeM_WWTza",
        "outputId": "14173cf4-7c2d-42fc-e5ca-668dfdf796b7"
      },
      "execution_count": null,
      "outputs": [
        {
          "output_type": "stream",
          "name": "stdout",
          "text": [
            "Name: Lila\n",
            "Age: 22\n",
            "Lila is 22 years old with matric number G2218965\n"
          ]
        }
      ]
    }
  ]
}